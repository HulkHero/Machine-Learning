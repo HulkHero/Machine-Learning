{
 "cells": [
  {
   "cell_type": "markdown",
   "metadata": {},
   "source": [
    "## LAB 0\n"
   ]
  },
  {
   "cell_type": "markdown",
   "metadata": {},
   "source": [
    "Question 1:"
   ]
  },
  {
   "cell_type": "code",
   "execution_count": 23,
   "metadata": {},
   "outputs": [
    {
     "name": "stdout",
     "output_type": "stream",
     "text": [
      "[0.0, 5.196152422706632, 10.392304845413264]\n",
      "[5.196152422706632, 0.0, 5.196152422706632]\n",
      "[10.392304845413264, 5.196152422706632, 0.0]\n"
     ]
    }
   ],
   "source": [
    "input1 = [[1, 2, 3], [4, 5, 6], [7, 8, 9]]\n",
    "\n",
    "# input2 = [[10, 11, 12], [13, 14, 15],[16,17,18]]\n",
    "\n",
    "def euclideanDistance(i1,i2):\n",
    "    return sum((k-l)**2 for k, l in zip(i1, i2)) ** .5\n",
    "def main(input1,input2):\n",
    "    List1 = []\n",
    "    for i in input2:\n",
    "        app = [euclideanDistance(i, j) for j in input2]\n",
    "        List1.append(app)\n",
    "    return List1\n",
    "List=main(input1,input1)\n",
    "l=0\n",
    "for sublist in List:\n",
    "    print(List[l])\n",
    "    l+=1"
   ]
  },
  {
   "cell_type": "markdown",
   "metadata": {},
   "source": [
    "Question 2:\n"
   ]
  },
  {
   "cell_type": "code",
   "execution_count": 24,
   "metadata": {},
   "outputs": [
    {
     "name": "stdout",
     "output_type": "stream",
     "text": [
      "[[ 0.          5.19615242 10.39230485]\n",
      " [ 5.19615242  0.          5.19615242]\n",
      " [10.39230485  5.19615242  0.        ]]\n"
     ]
    }
   ],
   "source": [
    "import numpy as np \n",
    "i1=np.array([[1, 2, 3], [4, 5, 6], [7, 8, 9]])\n",
    "# i2=np.array([[10, 11, 12], [13, 14, 15],[16,17,18]])\n",
    "\n",
    "def withNumpy(a,b):\n",
    "    return np.array([[ np.linalg.norm(i-j) for j in b] for i in a])\n",
    "print(withNumpy(i1, i1))"
   ]
  },
  {
   "cell_type": "markdown",
   "metadata": {},
   "source": [
    "Question 3:"
   ]
  },
  {
   "cell_type": "code",
   "execution_count": 25,
   "metadata": {},
   "outputs": [
    {
     "name": "stdout",
     "output_type": "stream",
     "text": [
      "121 µs ± 23.4 µs per loop (mean ± std. dev. of 7 runs, 10,000 loops each)\n",
      "110 µs ± 10.1 µs per loop (mean ± std. dev. of 7 runs, 10,000 loops each)\n"
     ]
    }
   ],
   "source": [
    "%timeit d4=main(i1, i1)\n",
    "%timeit withNumpy(i1, i1)\n",
    "\n"
   ]
  },
  {
   "cell_type": "code",
   "execution_count": null,
   "metadata": {},
   "outputs": [],
   "source": []
  }
 ],
 "metadata": {
  "kernelspec": {
   "display_name": "Python 3.9.12 ('base')",
   "language": "python",
   "name": "python3"
  },
  "language_info": {
   "codemirror_mode": {
    "name": "ipython",
    "version": 3
   },
   "file_extension": ".py",
   "mimetype": "text/x-python",
   "name": "python",
   "nbconvert_exporter": "python",
   "pygments_lexer": "ipython3",
   "version": "3.9.12"
  },
  "orig_nbformat": 4,
  "vscode": {
   "interpreter": {
    "hash": "23bf0724a01b6ea9814e66f76182ea78c0ee849a72ca257c0e116bf83bb4960a"
   }
  }
 },
 "nbformat": 4,
 "nbformat_minor": 2
}
