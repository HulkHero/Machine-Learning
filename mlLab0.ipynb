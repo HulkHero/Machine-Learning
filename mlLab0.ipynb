{
 "cells": [
  {
   "cell_type": "code",
   "execution_count": 1,
   "metadata": {},
   "outputs": [
    {
     "name": "stdout",
     "output_type": "stream",
     "text": [
      "[0.0, 5.196152422706632, 10.392304845413264]\n",
      "[5.196152422706632, 0.0, 5.196152422706632]\n",
      "[10.392304845413264, 5.196152422706632, 0.0]\n"
     ]
    }
   ],
   "source": [
    "test1 = [[1, 2, 3], [4, 5, 6], [7, 8, 9]]\n",
    "\n",
    "test2 = [[10, 11, 12], [13, 14, 15],[16,17,18]]\n",
    "\n",
    "def euclidean(v1, v2):\n",
    "    return sum((p-q)**2 for p, q in zip(v1, v2)) ** .5\n",
    "def main_1(test1,test2):\n",
    "    d2 = []\n",
    "    for i in test2:\n",
    "        foo = [euclidean(i, j) for j in test2]\n",
    "        d2.append(foo)\n",
    "    return d2\n",
    "d3=main_1(test1,test1)\n",
    "l=0\n",
    "for sublist in d3:\n",
    "    print(d3[l])\n",
    "    l+=1"
   ]
  },
  {
   "cell_type": "code",
   "execution_count": null,
   "metadata": {},
   "outputs": [],
   "source": []
  }
 ],
 "metadata": {
  "kernelspec": {
   "display_name": "Python 3.9.12 ('base')",
   "language": "python",
   "name": "python3"
  },
  "language_info": {
   "codemirror_mode": {
    "name": "ipython",
    "version": 3
   },
   "file_extension": ".py",
   "mimetype": "text/x-python",
   "name": "python",
   "nbconvert_exporter": "python",
   "pygments_lexer": "ipython3",
   "version": "3.9.12"
  },
  "orig_nbformat": 4,
  "vscode": {
   "interpreter": {
    "hash": "23bf0724a01b6ea9814e66f76182ea78c0ee849a72ca257c0e116bf83bb4960a"
   }
  }
 },
 "nbformat": 4,
 "nbformat_minor": 2
}
